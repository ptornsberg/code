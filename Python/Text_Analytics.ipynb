{
 "cells": [
  {
   "cell_type": "code",
   "execution_count": 1,
   "metadata": {
    "colab": {
     "base_uri": "https://localhost:8080/",
     "height": 119
    },
    "colab_type": "code",
    "id": "tz0d4FUc-82m",
    "outputId": "fc7413a5-726b-4617-fdef-2e666d966137"
   },
   "outputs": [
    {
     "name": "stderr",
     "output_type": "stream",
     "text": [
      "[nltk_data] Downloading package stopwords to\n",
      "[nltk_data]     C:\\Users\\Peter\\AppData\\Roaming\\nltk_data...\n",
      "[nltk_data]   Package stopwords is already up-to-date!\n",
      "[nltk_data] Downloading package wordnet to\n",
      "[nltk_data]     C:\\Users\\Peter\\AppData\\Roaming\\nltk_data...\n",
      "[nltk_data]   Package wordnet is already up-to-date!\n",
      "[nltk_data] Downloading package punkt to\n",
      "[nltk_data]     C:\\Users\\Peter\\AppData\\Roaming\\nltk_data...\n",
      "[nltk_data]   Package punkt is already up-to-date!\n"
     ]
    }
   ],
   "source": [
    "# Load Libraries\n",
    "import pandas as pd\n",
    "import numpy as np\n",
    "import seaborn as sns\n",
    "import matplotlib.pyplot as plt\n",
    "import nltk as nlp\n",
    "import re\n",
    "import string\n",
    "\n",
    "nlp.download('stopwords')\n",
    "from nltk.corpus import stopwords\n",
    "from nltk.tokenize import word_tokenize, sent_tokenize\n",
    "\n",
    "nlp.download('wordnet')\n",
    "from nltk.stem import WordNetLemmatizer \n",
    "\n",
    "nlp.download('punkt')\n",
    "\n",
    "from sklearn import model_selection, preprocessing, linear_model, naive_bayes, metrics, svm\n",
    "from sklearn.feature_extraction.text import TfidfVectorizer, CountVectorizer\n",
    "from sklearn import decomposition, ensemble\n",
    "\n",
    "from sklearn.model_selection import train_test_split\n",
    "\n",
    "# Metrics\n",
    "from sklearn.metrics import accuracy_score, classification_report\n",
    "from sklearn.metrics import average_precision_score, confusion_matrix\n",
    "\n",
    "from sklearn.linear_model import LogisticRegression\n",
    "from sklearn.naive_bayes import MultinomialNB\n",
    "\n",
    "from sklearn.utils import resample\n",
    "\n",
    "from sklearn.model_selection import cross_val_score, cross_val_predict\n",
    "from sklearn.model_selection import GridSearchCV\n",
    "from sklearn.pipeline import Pipeline"
   ]
  },
  {
   "cell_type": "code",
   "execution_count": 2,
   "metadata": {
    "colab": {},
    "colab_type": "code",
    "id": "LN1KqGkk_ErW"
   },
   "outputs": [],
   "source": [
    "# Load Data\n",
    "real = pd.read_csv('True.csv')\n",
    "fake = pd.read_csv('Fake.csv')"
   ]
  },
  {
   "cell_type": "code",
   "execution_count": 3,
   "metadata": {
    "colab": {
     "base_uri": "https://localhost:8080/",
     "height": 204
    },
    "colab_type": "code",
    "id": "gyBWDeXS_GIP",
    "outputId": "a4c4fc8a-af49-4021-bf0b-4a2b60bce0b6"
   },
   "outputs": [
    {
     "data": {
      "text/html": [
       "<div>\n",
       "<style scoped>\n",
       "    .dataframe tbody tr th:only-of-type {\n",
       "        vertical-align: middle;\n",
       "    }\n",
       "\n",
       "    .dataframe tbody tr th {\n",
       "        vertical-align: top;\n",
       "    }\n",
       "\n",
       "    .dataframe thead th {\n",
       "        text-align: right;\n",
       "    }\n",
       "</style>\n",
       "<table border=\"1\" class=\"dataframe\">\n",
       "  <thead>\n",
       "    <tr style=\"text-align: right;\">\n",
       "      <th></th>\n",
       "      <th>text</th>\n",
       "      <th>Class</th>\n",
       "    </tr>\n",
       "  </thead>\n",
       "  <tbody>\n",
       "    <tr>\n",
       "      <th>0</th>\n",
       "      <td>Donald Trump just couldn t wish all Americans ...</td>\n",
       "      <td>1</td>\n",
       "    </tr>\n",
       "    <tr>\n",
       "      <th>1</th>\n",
       "      <td>House Intelligence Committee Chairman Devin Nu...</td>\n",
       "      <td>1</td>\n",
       "    </tr>\n",
       "    <tr>\n",
       "      <th>2</th>\n",
       "      <td>On Friday, it was revealed that former Milwauk...</td>\n",
       "      <td>1</td>\n",
       "    </tr>\n",
       "    <tr>\n",
       "      <th>3</th>\n",
       "      <td>On Christmas day, Donald Trump announced that ...</td>\n",
       "      <td>1</td>\n",
       "    </tr>\n",
       "    <tr>\n",
       "      <th>4</th>\n",
       "      <td>Pope Francis used his annual Christmas Day mes...</td>\n",
       "      <td>1</td>\n",
       "    </tr>\n",
       "  </tbody>\n",
       "</table>\n",
       "</div>"
      ],
      "text/plain": [
       "                                                text  Class\n",
       "0  Donald Trump just couldn t wish all Americans ...      1\n",
       "1  House Intelligence Committee Chairman Devin Nu...      1\n",
       "2  On Friday, it was revealed that former Milwauk...      1\n",
       "3  On Christmas day, Donald Trump announced that ...      1\n",
       "4  Pope Francis used his annual Christmas Day mes...      1"
      ]
     },
     "execution_count": 3,
     "metadata": {},
     "output_type": "execute_result"
    }
   ],
   "source": [
    "# Combine Datasets\n",
    "fake['Class'] = 1\n",
    "real['Class'] = 0\n",
    "\n",
    "cols = ['text', 'Class']\n",
    "\n",
    "news = pd.concat([fake[cols], real[cols]]).reset_index(drop = True)\n",
    "news.head()"
   ]
  },
  {
   "cell_type": "code",
   "execution_count": 4,
   "metadata": {
    "colab": {
     "base_uri": "https://localhost:8080/",
     "height": 68
    },
    "colab_type": "code",
    "id": "ia_GPXmM_GLM",
    "outputId": "6b0a38ca-16ee-4ef4-8438-567d12bdbca7"
   },
   "outputs": [
    {
     "data": {
      "text/plain": [
       "text     0\n",
       "Class    0\n",
       "dtype: int64"
      ]
     },
     "execution_count": 4,
     "metadata": {},
     "output_type": "execute_result"
    }
   ],
   "source": [
    "# Check for null values\n",
    "news.isnull().sum()"
   ]
  },
  {
   "cell_type": "code",
   "execution_count": 5,
   "metadata": {
    "colab": {
     "base_uri": "https://localhost:8080/",
     "height": 255
    },
    "colab_type": "code",
    "id": "2TLn2gFW_GN6",
    "outputId": "8ccfc33c-5227-4dd2-d42c-372ef7f346ae"
   },
   "outputs": [
    {
     "name": "stdout",
     "output_type": "stream",
     "text": [
      "                                                    text  Class\n",
      "9114   AP News  The regulars amble in before dawn and...      1\n",
      "9738   Things didn t go as well as Nicholle had hoped...      1\n",
      "9942   No time to waste   we've got to fight with eve...      1\n",
      "11041                                                         1\n",
      "11190                                                         1\n",
      "...                                                  ...    ...\n",
      "44709  PARIS (Reuters) - French President Emmanuel Ma...      0\n",
      "44744  GUATEMALA CITY (Reuters) - Guatemala s top cou...      0\n",
      "44771  PARIS (Reuters) - Europe s  big four  continen...      0\n",
      "44834  BANGKOK (Reuters) - Ousted Thai prime minister...      0\n",
      "44889  GENEVA (Reuters) - North Korea and the United ...      0\n",
      "\n",
      "[6251 rows x 2 columns]\n"
     ]
    }
   ],
   "source": [
    "# Check for duplicates\n",
    "duplicates = news[news.duplicated()]\n",
    "print(duplicates)\n",
    "\n",
    "# Drop duplicates\n",
    "news = news.drop_duplicates()"
   ]
  },
  {
   "cell_type": "code",
   "execution_count": 6,
   "metadata": {
    "colab": {
     "base_uri": "https://localhost:8080/",
     "height": 68
    },
    "colab_type": "code",
    "id": "twFkfCwX_GQL",
    "outputId": "aed797c5-80b3-42e5-c2eb-08865c9c3436"
   },
   "outputs": [
    {
     "data": {
      "text/plain": [
       "0    21192\n",
       "1    17455\n",
       "Name: Class, dtype: int64"
      ]
     },
     "execution_count": 6,
     "metadata": {},
     "output_type": "execute_result"
    }
   ],
   "source": [
    "# Check size of each class\n",
    "news.Class.value_counts()"
   ]
  },
  {
   "cell_type": "code",
   "execution_count": 7,
   "metadata": {
    "colab": {
     "base_uri": "https://localhost:8080/",
     "height": 139
    },
    "colab_type": "code",
    "id": "68hekCGP_GSl",
    "outputId": "9916da89-c0e9-493f-89fc-7dc5674773cb"
   },
   "outputs": [
    {
     "name": "stdout",
     "output_type": "stream",
     "text": [
      "\n",
      "Article 1:\n",
      " The number of cases of cops brutalizing and killing people of color seems to see no end. Now, we have another case that needs to be shared far and wide. An Alabama woman by the name of Angela Williams shared a graphic photo of her son, lying in a hospital bed with a beaten and fractured face, on Facebook. It needs to be shared far and wide, because this is unacceptable.It is unclear why Williams  son was in police custody or what sort of altercation resulted in his arrest, but when you see the photo you will realize that these details matter not. Cops are not supposed to beat and brutalize those in their custody. In the post you are about to see, Ms. Williams expresses her hope that the cops had their body cameras on while they were beating her son, but I think we all know that there will be some kind of convenient  malfunction  to explain away the lack of existence of dash or body camera footage of what was clearly a brutal beating. Hell, it could even be described as attempted murder. Something tells me that this young man will never be the same. Without further ado, here is what Troy, Alabama s finest decided was appropriate treatment of Angela Williams  son:No matter what the perceived crime of this young man might be, this is completely unacceptable. The cops who did this need to rot in jail for a long, long time   but what you wanna bet they get a paid vacation while the force  investigates  itself, only to have the officers returned to duty posthaste?This, folks, is why we say BLACK LIVES MATTER. No way in hell would this have happened if Angela Williams  son had been white. Please share far and wide, and stay tuned to Addicting Info for further updates.Featured image via David McNew/Stringer/Getty Images\n",
      "\n",
      "Article 2:\n",
      " Donald Trump spent a good portion of his day at his golf club, marking the 84th day he s done so since taking the oath of office. It must have been a bad game because just after that, Trump lashed out at FBI Deputy Director Andrew McCabe on Twitter following a report saying McCabe plans to retire in a few months. The report follows McCabe s testimony in front of congressional committees this week, as well as mounting criticism from Republicans regarding the Russia probe.So, naturally, Trump attacked McCabe with a lie. How can FBI Deputy Director Andrew McCabe, the man in charge, along with leakin  James Comey, of the Phony Hillary Clinton investigation (including her 33,000 illegally deleted emails) be given $700,000 for wife s campaign by Clinton Puppets during investigation?  Trump tweeted.How can FBI Deputy Director Andrew McCabe, the man in charge, along with leakin  James Comey, of the Phony Hillary Clinton investigation (including her 33,000 illegally deleted emails) be given $700,000 for wife s campaign by Clinton Puppets during investigation?  Donald J. Trump (@realDonaldTrump) December 23, 2017He didn t stop there.FBI Deputy Director Andrew McCabe is racing the clock to retire with full benefits. 90 days to go?!!!  Donald J. Trump (@realDonaldTrump) December 23, 2017Wow,  FBI lawyer James Baker reassigned,  according to @FoxNews.  Donald J. Trump (@realDonaldTrump) December 23, 2017With all of the Intel at Trump s disposal, he s getting his information from Fox News. McCabe spent most of his career in the fight against terrorism and now he s being attacked by the so-called president. Trump has been fact-checked before on his claim of his wife receiving $700,000 for her campaign.Politifact noted in late July that Trump s  tweet about Andrew McCabe is a significant distortion of the facts. And the implication that McCabe got Clinton off as a political favor doesn t make much sense when we look at the evidence. His July tweet was rated  mostly false.  But Trump repeats these lies because he knows his supporters will believe them without bothering to Google. It s still a lie, though.Photo by Zach Gibson   Pool/Getty Images.\n"
     ]
    }
   ],
   "source": [
    "for index,text in enumerate(news['text'][5:7]):\n",
    "  print('\\nArticle %d:\\n'%(index+1),text)"
   ]
  },
  {
   "cell_type": "code",
   "execution_count": 8,
   "metadata": {
    "colab": {},
    "colab_type": "code",
    "id": "GquIXMWg_GVJ"
   },
   "outputs": [],
   "source": [
    "def prepare_text(text_list):\n",
    "    stop_words = set(stopwords.words('english')) \n",
    "    custom_stop_words = ['reuters', 'washington', 'new', 'york', 'london']\n",
    "    \n",
    "    lemmatizer = WordNetLemmatizer() \n",
    "    \n",
    "    # Convert text to lower case\n",
    "    out = text_list.apply(lambda x: x.lower())\n",
    "    \n",
    "    # Remove numbers and words containing numbers\n",
    "    out = out.apply(lambda x: re.sub('\\w*\\d\\w*','', x))\n",
    "    \n",
    "    # Remove punctiation\n",
    "    out = out.apply(lambda x: re.sub('[%s]' % re.escape(string.punctuation), '', x))\n",
    "\n",
    "    # Tokenize words\n",
    "    tokens = out.apply(lambda x: word_tokenize(x))\n",
    "    \n",
    "    # Remove stopwords\n",
    "    tokens = tokens.apply(lambda x: ([item for item in x if item not in stop_words]))\n",
    "    \n",
    "    # Remove custom stopwords\n",
    "    tokens = tokens.apply(lambda x: ([item for item in x if item not in custom_stop_words]))\n",
    "    \n",
    "    # Word lemmitization\n",
    "    tokens = tokens.apply(lambda x: ([lemmatizer.lemmatize(item) for item in x]))\n",
    "    \n",
    "    # Convert tokens back into string\n",
    "    out = tokens.apply(lambda x: ' '.join(x))\n",
    "    \n",
    "    return out"
   ]
  },
  {
   "cell_type": "code",
   "execution_count": 9,
   "metadata": {
    "colab": {},
    "colab_type": "code",
    "id": "X3TFIdnwAlMs"
   },
   "outputs": [],
   "source": [
    "news['text_processed'] = prepare_text(news['text'])"
   ]
  },
  {
   "cell_type": "code",
   "execution_count": 10,
   "metadata": {
    "colab": {
     "base_uri": "https://localhost:8080/",
     "height": 139
    },
    "colab_type": "code",
    "id": "4Do4fZHh_GXr",
    "outputId": "dd105d10-1857-418e-bfd4-f7d608a169ff"
   },
   "outputs": [
    {
     "name": "stdout",
     "output_type": "stream",
     "text": [
      "\n",
      "Article 1:\n",
      " number case cop brutalizing killing people color seems see end another case need shared far wide alabama woman name angela williams shared graphic photo son lying hospital bed beaten fractured face facebook need shared far wide unacceptableit unclear williams son police custody sort altercation resulted arrest see photo realize detail matter cop supposed beat brutalize custody post see m williams express hope cop body camera beating son think know kind convenient malfunction explain away lack existence dash body camera footage clearly brutal beating hell could even described attempted murder something tell young man never without ado troy alabama finest decided appropriate treatment angela williams sonno matter perceived crime young man might completely unacceptable cop need rot jail long long time wan na bet get paid vacation force investigates officer returned duty posthastethis folk say black life matter way hell would happened angela williams son white please share far wide stay tuned addicting info updatesfeatured image via david mcnewstringergetty image\n",
      "\n",
      "Article 2:\n",
      " donald trump spent good portion day golf club marking day done since taking oath office must bad game trump lashed fbi deputy director andrew mccabe twitter following report saying mccabe plan retire month report follows mccabe testimony front congressional committee week well mounting criticism republican regarding russia probeso naturally trump attacked mccabe lie fbi deputy director andrew mccabe man charge along leakin james comey phony hillary clinton investigation including illegally deleted email given wife campaign clinton puppet investigation trump tweetedhow fbi deputy director andrew mccabe man charge along leakin james comey phony hillary clinton investigation including illegally deleted email given wife campaign clinton puppet investigation donald j trump realdonaldtrump december stop therefbi deputy director andrew mccabe racing clock retire full benefit day go donald j trump realdonaldtrump december fbi lawyer james baker reassigned according foxnews donald j trump realdonaldtrump december intel trump disposal getting information fox news mccabe spent career fight terrorism attacked socalled president trump factchecked claim wife receiving campaignpolitifact noted late july trump tweet andrew mccabe significant distortion fact implication mccabe got clinton political favor make much sense look evidence july tweet rated mostly false trump repeat lie know supporter believe without bothering google still lie thoughphoto zach gibson poolgetty image\n"
     ]
    }
   ],
   "source": [
    "for index,text in enumerate(news['text_processed'][5:7]):\n",
    "  print('\\nArticle %d:\\n'%(index+1),text)"
   ]
  },
  {
   "cell_type": "code",
   "execution_count": 11,
   "metadata": {
    "colab": {
     "base_uri": "https://localhost:8080/",
     "height": 68
    },
    "colab_type": "code",
    "id": "-XYbb0LmGQN6",
    "outputId": "d3298487-9f99-41d8-8474-c76e663dc957"
   },
   "outputs": [
    {
     "data": {
      "text/plain": [
       "0    21192\n",
       "1    17455\n",
       "Name: Class, dtype: int64"
      ]
     },
     "execution_count": 11,
     "metadata": {},
     "output_type": "execute_result"
    }
   ],
   "source": [
    "# Check size of each class\n",
    "news.Class.value_counts()"
   ]
  },
  {
   "cell_type": "code",
   "execution_count": 12,
   "metadata": {
    "colab": {
     "base_uri": "https://localhost:8080/",
     "height": 68
    },
    "colab_type": "code",
    "id": "fL3lBr9cGQRS",
    "outputId": "276f8245-8c38-4ae4-9c97-2cf3e6677d5c"
   },
   "outputs": [
    {
     "data": {
      "text/plain": [
       "1    17455\n",
       "0    17455\n",
       "Name: Class, dtype: int64"
      ]
     },
     "execution_count": 12,
     "metadata": {},
     "output_type": "execute_result"
    }
   ],
   "source": [
    "# Undersample real news to match fake news\n",
    "\n",
    "real_news = news[news.Class == 0]\n",
    "fake_news = news[news.Class == 1]\n",
    "\n",
    "fake_news_size = len(fake_news)\n",
    "\n",
    "real_news = resample(real_news, replace=False, n_samples=fake_news_size, random_state=15)\n",
    "\n",
    "news = pd.concat([real_news, fake_news])\n",
    "\n",
    "# Check size of each class\n",
    "news.Class.value_counts()"
   ]
  },
  {
   "cell_type": "code",
   "execution_count": 13,
   "metadata": {
    "colab": {},
    "colab_type": "code",
    "id": "rasCSA9p_Gc-"
   },
   "outputs": [],
   "source": [
    "# Split into test and training data\n",
    "X  = news['text_processed']\n",
    "y = news['Class']"
   ]
  },
  {
   "cell_type": "code",
   "execution_count": 14,
   "metadata": {
    "colab": {},
    "colab_type": "code",
    "id": "4m1YFLcE0a60"
   },
   "outputs": [],
   "source": [
    "def EvaluateModel(pipeline):\n",
    "  predictions =  cross_val_predict(pipeline, X, y, cv=5)\n",
    "\n",
    "  report = classification_report(y, predictions)\n",
    "  cf_matrix = confusion_matrix(y, predictions)\n",
    "  ap_score = average_precision_score(y, predictions)\n",
    "  \n",
    "  print(\"Model Performance Metrics\\n\")\n",
    "  print(report)\n",
    "  print('Average precision-recall score: {0:0.3f}'.format(ap_score))\n",
    "  print(\"\\nConfusion Matrix:\")\n",
    "  sns.heatmap(cf_matrix /np.sum(cf_matrix), annot=True, fmt='.2%', cmap='Blues')"
   ]
  },
  {
   "cell_type": "code",
   "execution_count": 15,
   "metadata": {
    "colab": {},
    "colab_type": "code",
    "id": "F4gk6e4_r8Uv"
   },
   "outputs": [],
   "source": [
    "# Multinominial Naive Bayes Classifier Pipeline\n",
    "mnb = Pipeline(\n",
    "    steps=[\n",
    "           ('preprocessor', TfidfVectorizer(max_features=250, ngram_range=(1,2))),\n",
    "           ('classifier', MultinomialNB())\n",
    "    ]\n",
    ")\n",
    "\n",
    "# Logitstic Regression Classifier Pipeline\n",
    "lr = Pipeline(\n",
    "    steps=[\n",
    "           ('preprocessor', TfidfVectorizer(max_features=250)),\n",
    "           ('classifier', LogisticRegression())\n",
    "    ]\n",
    ")"
   ]
  },
  {
   "cell_type": "code",
   "execution_count": 16,
   "metadata": {
    "colab": {
     "base_uri": "https://localhost:8080/",
     "height": 503
    },
    "colab_type": "code",
    "id": "35UkreXjtnIF",
    "outputId": "4140c9d3-952c-4121-fe30-b943b1d9adbd"
   },
   "outputs": [
    {
     "name": "stdout",
     "output_type": "stream",
     "text": [
      "Model Performance Metrics\n",
      "\n",
      "              precision    recall  f1-score   support\n",
      "\n",
      "           0       0.93      0.96      0.95     17455\n",
      "           1       0.96      0.93      0.94     17455\n",
      "\n",
      "    accuracy                           0.95     34910\n",
      "   macro avg       0.95      0.95      0.95     34910\n",
      "weighted avg       0.95      0.95      0.95     34910\n",
      "\n",
      "Average precision-recall score: 0.928\n",
      "\n",
      "Confusion Matrix:\n"
     ]
    },
    {
     "data": {
      "image/png": "[encoded data removed]",
      "text/plain": [
       "<Figure size 432x288 with 2 Axes>"
      ]
     },
     "metadata": {
      "needs_background": "light"
     },
     "output_type": "display_data"
    }
   ],
   "source": [
    "EvaluateModel(lr)"
   ]
  },
  {
   "cell_type": "code",
   "execution_count": 17,
   "metadata": {
    "colab": {
     "base_uri": "https://localhost:8080/",
     "height": 504
    },
    "colab_type": "code",
    "id": "A6wEAXHku7vC",
    "outputId": "ac49efcc-3fb0-49c6-b961-3d156d779320"
   },
   "outputs": [
    {
     "name": "stdout",
     "output_type": "stream",
     "text": [
      "Model Performance Metrics\n",
      "\n",
      "              precision    recall  f1-score   support\n",
      "\n",
      "           0       0.88      0.91      0.89     17455\n",
      "           1       0.91      0.87      0.89     17455\n",
      "\n",
      "    accuracy                           0.89     34910\n",
      "   macro avg       0.89      0.89      0.89     34910\n",
      "weighted avg       0.89      0.89      0.89     34910\n",
      "\n",
      "Average precision-recall score: 0.857\n",
      "\n",
      "Confusion Matrix:\n"
     ]
    },
    {
     "data": {
      "image/png": "[encoded data removed]",
      "text/plain": [
       "<Figure size 432x288 with 2 Axes>"
      ]
     },
     "metadata": {
      "needs_background": "light"
     },
     "output_type": "display_data"
    }
   ],
   "source": [
    "EvaluateModel(mnb)"
   ]
  },
  {
   "cell_type": "markdown",
   "metadata": {
    "colab_type": "text",
    "id": "am7lOZBygO2k"
   },
   "source": [
    "# N-Gram Language Model"
   ]
  },
  {
   "cell_type": "code",
   "execution_count": 18,
   "metadata": {
    "colab": {},
    "colab_type": "code",
    "id": "z6gU9UiKDDOb"
   },
   "outputs": [
    {
     "name": "stderr",
     "output_type": "stream",
     "text": [
      "[nltk_data] Downloading package averaged_perceptron_tagger to\n",
      "[nltk_data]     C:\\Users\\Peter\\AppData\\Roaming\\nltk_data...\n",
      "[nltk_data]   Package averaged_perceptron_tagger is already up-to-\n",
      "[nltk_data]       date!\n"
     ]
    },
    {
     "data": {
      "text/plain": [
       "True"
      ]
     },
     "execution_count": 18,
     "metadata": {},
     "output_type": "execute_result"
    }
   ],
   "source": [
    "from nltk.lm.preprocessing import padded_everygram_pipeline\n",
    "from nltk.lm import Laplace\n",
    "from nltk.lm import WittenBellInterpolated, KneserNeyInterpolated\n",
    "from nltk.tokenize.treebank import TreebankWordDetokenizer, TreebankWordTokenizer\n",
    "\n",
    "nlp.download('averaged_perceptron_tagger')"
   ]
  },
  {
   "cell_type": "code",
   "execution_count": 19,
   "metadata": {
    "colab": {},
    "colab_type": "code",
    "id": "W6SogMiFDDUu"
   },
   "outputs": [
    {
     "data": {
      "text/plain": [
       "37546    MOSCOW (Reuters) - Russia s defense ministry h...\n",
       "42387    KIEV (Reuters) - Massive explosions and a blaz...\n",
       "37538    TEGUCIGALPA (Reuters) - Eight years after a co...\n",
       "28817    HAVANA (Reuters) - The Mississippi ports of Pa...\n",
       "37416    YANGON (Reuters) - Chinese President Xi Jinpin...\n",
       "Name: text, dtype: object"
      ]
     },
     "execution_count": 19,
     "metadata": {},
     "output_type": "execute_result"
    }
   ],
   "source": [
    "# Create list of sentences\n",
    "stories = news[news.Class == 0]['text']\n",
    "stories.head()"
   ]
  },
  {
   "cell_type": "code",
   "execution_count": 20,
   "metadata": {
    "colab": {},
    "colab_type": "code",
    "id": "HAzWotX4DDYK"
   },
   "outputs": [],
   "source": [
    "tokenizer = TreebankWordTokenizer()\n",
    "\n",
    "def clean_stories(text_list):\n",
    "    # Convert text to lower case\n",
    "    out = text_list.apply(lambda x: x.lower())\n",
    "    # Remove numbers and words containing numbers\n",
    "    out = out.apply(lambda x: re.sub('\\w*\\d\\w*', '', x))\n",
    "\n",
    "    # Remove and replace various quote characters\n",
    "    out = out.apply(lambda x: re.sub(r'\\“|\\”', '', x))\n",
    "    out = out.apply(lambda x: re.sub(r'\\’', \"\", x))\n",
    "    out = out.apply(lambda x: re.sub(r'\\`', \"\", x))\n",
    "    return out\n",
    "\n",
    "def tokenize(text_list):\n",
    "    sents = []\n",
    "    for text in text_list:\n",
    "        sent_tokens = sent_tokenize(text)\n",
    "        for sent in sent_tokens:\n",
    "            #sent = re.sub('[%s]' % re.escape(string.punctuation), '', sent)\n",
    "            sents.append(tokenizer.tokenize(sent))\n",
    "    return sents"
   ]
  },
  {
   "cell_type": "code",
   "execution_count": 26,
   "metadata": {
    "colab": {},
    "colab_type": "code",
    "id": "xAO7HDWMDDhC"
   },
   "outputs": [],
   "source": [
    "text = clean_stories(stories[:1000])\n",
    "sents = tokenize(text)"
   ]
  },
  {
   "cell_type": "code",
   "execution_count": 27,
   "metadata": {
    "colab": {},
    "colab_type": "code",
    "id": "z5TVrtEnDDf3"
   },
   "outputs": [],
   "source": [
    "n_gram = 3\n",
    "\n",
    "train_data, padded_sents = padded_everygram_pipeline(n_gram, sents)\n",
    "\n",
    "model = KneserNeyInterpolated(n_gram)\n",
    "model.fit(train_data, padded_sents)"
   ]
  },
  {
   "cell_type": "code",
   "execution_count": 28,
   "metadata": {
    "colab": {},
    "colab_type": "code",
    "id": "73Ie3wwTDIkK"
   },
   "outputs": [],
   "source": [
    "detokenizer = TreebankWordDetokenizer()\n",
    "\n",
    "def generate_sent(model, num_words, text_seed=''):\n",
    "    seed = word_tokenize(text_seed)\n",
    "    content = seed\n",
    "    # content.append(seed)\n",
    "    for token in model.generate(num_words, text_seed=seed):\n",
    "        if token == '<s>':\n",
    "            continue\n",
    "        if token == '</s>':\n",
    "            break\n",
    "        content.append(token)\n",
    "    return detokenizer.detokenize(content)"
   ]
  },
  {
   "cell_type": "code",
   "execution_count": 29,
   "metadata": {
    "colab": {},
    "colab_type": "code",
    "id": "atS88tWRDIou"
   },
   "outputs": [],
   "source": [
    "def write_story(model, length, feed_text=''):\n",
    "    stop_words = set(stopwords.words('english'))\n",
    "    story = []\n",
    "    for i in range(length):\n",
    "        sent_length = np.random.randint(low=10, high=25)\n",
    "        sent = generate_sent(model, num_words=sent_length, text_seed=feed_text)\n",
    "        sent = sent.capitalize()\n",
    "        story.append(sent)\n",
    "        sent = re.sub('[%s]' % re.escape(string.punctuation), '', sent.lower())\n",
    "        words = word_tokenize(sent)\n",
    "\n",
    "        nouns = [word for (word, pos) in nlp.pos_tag(words)\n",
    "                 if(pos[:2] == 'NN')]\n",
    "        nouns = [item for item in nouns if item not in stop_words]\n",
    "        nouns = [item for item in nouns if item != feed_text]\n",
    "\n",
    "        nouns_length = len(nouns)\n",
    "        if nouns_length > 0:\n",
    "            feed_word_loc = np.random.randint(low=0, high=nouns_length)\n",
    "            feed_text = nouns[feed_word_loc]\n",
    "        else:\n",
    "            feed_text = ''\n",
    "    return ' '.join(story)"
   ]
  },
  {
   "cell_type": "code",
   "execution_count": 30,
   "metadata": {
    "colab": {},
    "colab_type": "code",
    "id": "PnA1O2vaDIrp"
   },
   "outputs": [
    {
     "data": {
      "text/plain": [
       "'Probing for a possible sale to britain after it was like a visitor in my judgment right now, should it choose to scrap Judgment. Orthodoxy will come out stronger, he has no intention of firing leandra english, to block Orthodoxy will come back right now, it is not expected to pass a spending bill coming before house on saturday any Spending on non-defense programs, facilities and both the city. City has had recent contact with the republican candidate karen handel Karen weaver. Seabreeze partners management. Management llc and a cuban team sweat jacket and sunglasses, and nancy pelosi and schumer said on thursday Nancy reagan, who is a big postcard, mnuchin said'"
      ]
     },
     "execution_count": 30,
     "metadata": {},
     "output_type": "execute_result"
    }
   ],
   "source": [
    "write_story(model, 10)"
   ]
  }
 ],
 "metadata": {
  "colab": {
   "collapsed_sections": [],
   "name": "Text Analytics Exam.ipynb",
   "provenance": []
  },
  "kernelspec": {
   "display_name": "Python 3",
   "language": "python",
   "name": "python3"
  },
  "language_info": {
   "codemirror_mode": {
    "name": "ipython",
    "version": 3
   },
   "file_extension": ".py",
   "mimetype": "text/x-python",
   "name": "python",
   "nbconvert_exporter": "python",
   "pygments_lexer": "ipython3",
   "version": "3.7.1"
  }
 },
 "nbformat": 4,
 "nbformat_minor": 1
}
