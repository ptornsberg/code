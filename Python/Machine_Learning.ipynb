{
 "cells": [
  {
   "cell_type": "markdown",
   "metadata": {
    "colab_type": "text",
    "id": "TyDe3Ycp9fGn"
   },
   "source": [
    "# Import data and libraries"
   ]
  },
  {
   "cell_type": "code",
   "execution_count": 0,
   "metadata": {
    "colab": {},
    "colab_type": "code",
    "id": "SMeV7MkM9ubf"
   },
   "outputs": [],
   "source": [
    "# Main Library Imports\n",
    "import pandas as pd\n",
    "import matplotlib.pyplot as plt\n",
    "import numpy as np\n",
    "import seaborn as sns\n",
    "\n",
    "# Feature Scaling\n",
    "from sklearn.preprocessing import StandardScaler\n",
    "\n",
    "# Dimensionality Reduction and Over/Undersampling\n",
    "from imblearn.over_sampling import SMOTE\n",
    "from sklearn.utils import resample\n",
    "from sklearn.decomposition import PCA\n",
    "from sklearn.manifold import TSNE\n",
    "\n",
    "# Model Selection\n",
    "from sklearn.model_selection import train_test_split\n",
    "from sklearn.model_selection import GridSearchCV\n",
    "\n",
    "# Metrics\n",
    "from sklearn.metrics import accuracy_score, classification_report\n",
    "from sklearn.metrics import average_precision_score, confusion_matrix\n",
    "\n",
    "# Classifiers\n",
    "from sklearn.ensemble import RandomForestClassifier\n",
    "from sklearn.linear_model import LogisticRegression\n",
    "from sklearn.svm import SVC\n",
    "from sklearn.neural_network import MLPClassifier"
   ]
  },
  {
   "cell_type": "code",
   "execution_count": 0,
   "metadata": {
    "colab": {},
    "colab_type": "code",
    "id": "FgBfIDFsxk0y"
   },
   "outputs": [],
   "source": [
    "# Import CSV file containing data\n",
    "data = pd.read_csv('/content/creditcard.csv')"
   ]
  },
  {
   "cell_type": "markdown",
   "metadata": {
    "colab_type": "text",
    "id": "WhAXuKkG9lfd"
   },
   "source": [
    "# Exploratory Data Analysis (EDA)"
   ]
  },
  {
   "cell_type": "code",
   "execution_count": 0,
   "metadata": {
    "colab": {
     "base_uri": "https://localhost:8080/",
     "height": 224
    },
    "colab_type": "code",
    "id": "VqAZsFfHADX_",
    "outputId": "140492bf-b5e9-469b-97bc-161e01f9d750"
   },
   "outputs": [
    {
     "data": {
      "text/html": [
       "<div>\n",
       "<style scoped>\n",
       "    .dataframe tbody tr th:only-of-type {\n",
       "        vertical-align: middle;\n",
       "    }\n",
       "\n",
       "    .dataframe tbody tr th {\n",
       "        vertical-align: top;\n",
       "    }\n",
       "\n",
       "    .dataframe thead th {\n",
       "        text-align: right;\n",
       "    }\n",
       "</style>\n",
       "<table border=\"1\" class=\"dataframe\">\n",
       "  <thead>\n",
       "    <tr style=\"text-align: right;\">\n",
       "      <th></th>\n",
       "      <th>Time</th>\n",
       "      <th>V1</th>\n",
       "      <th>V2</th>\n",
       "      <th>V3</th>\n",
       "      <th>V4</th>\n",
       "      <th>V5</th>\n",
       "      <th>V6</th>\n",
       "      <th>V7</th>\n",
       "      <th>V8</th>\n",
       "      <th>V9</th>\n",
       "      <th>V10</th>\n",
       "      <th>V11</th>\n",
       "      <th>V12</th>\n",
       "      <th>V13</th>\n",
       "      <th>V14</th>\n",
       "      <th>V15</th>\n",
       "      <th>V16</th>\n",
       "      <th>V17</th>\n",
       "      <th>V18</th>\n",
       "      <th>V19</th>\n",
       "      <th>V20</th>\n",
       "      <th>V21</th>\n",
       "      <th>V22</th>\n",
       "      <th>V23</th>\n",
       "      <th>V24</th>\n",
       "      <th>V25</th>\n",
       "      <th>V26</th>\n",
       "      <th>V27</th>\n",
       "      <th>V28</th>\n",
       "      <th>Amount</th>\n",
       "      <th>Class</th>\n",
       "    </tr>\n",
       "  </thead>\n",
       "  <tbody>\n",
       "    <tr>\n",
       "      <th>0</th>\n",
       "      <td>0.0</td>\n",
       "      <td>-1.359807</td>\n",
       "      <td>-0.072781</td>\n",
       "      <td>2.536347</td>\n",
       "      <td>1.378155</td>\n",
       "      <td>-0.338321</td>\n",
       "      <td>0.462388</td>\n",
       "      <td>0.239599</td>\n",
       "      <td>0.098698</td>\n",
       "      <td>0.363787</td>\n",
       "      <td>0.090794</td>\n",
       "      <td>-0.551600</td>\n",
       "      <td>-0.617801</td>\n",
       "      <td>-0.991390</td>\n",
       "      <td>-0.311169</td>\n",
       "      <td>1.468177</td>\n",
       "      <td>-0.470401</td>\n",
       "      <td>0.207971</td>\n",
       "      <td>0.025791</td>\n",
       "      <td>0.403993</td>\n",
       "      <td>0.251412</td>\n",
       "      <td>-0.018307</td>\n",
       "      <td>0.277838</td>\n",
       "      <td>-0.110474</td>\n",
       "      <td>0.066928</td>\n",
       "      <td>0.128539</td>\n",
       "      <td>-0.189115</td>\n",
       "      <td>0.133558</td>\n",
       "      <td>-0.021053</td>\n",
       "      <td>149.62</td>\n",
       "      <td>0</td>\n",
       "    </tr>\n",
       "    <tr>\n",
       "      <th>1</th>\n",
       "      <td>0.0</td>\n",
       "      <td>1.191857</td>\n",
       "      <td>0.266151</td>\n",
       "      <td>0.166480</td>\n",
       "      <td>0.448154</td>\n",
       "      <td>0.060018</td>\n",
       "      <td>-0.082361</td>\n",
       "      <td>-0.078803</td>\n",
       "      <td>0.085102</td>\n",
       "      <td>-0.255425</td>\n",
       "      <td>-0.166974</td>\n",
       "      <td>1.612727</td>\n",
       "      <td>1.065235</td>\n",
       "      <td>0.489095</td>\n",
       "      <td>-0.143772</td>\n",
       "      <td>0.635558</td>\n",
       "      <td>0.463917</td>\n",
       "      <td>-0.114805</td>\n",
       "      <td>-0.183361</td>\n",
       "      <td>-0.145783</td>\n",
       "      <td>-0.069083</td>\n",
       "      <td>-0.225775</td>\n",
       "      <td>-0.638672</td>\n",
       "      <td>0.101288</td>\n",
       "      <td>-0.339846</td>\n",
       "      <td>0.167170</td>\n",
       "      <td>0.125895</td>\n",
       "      <td>-0.008983</td>\n",
       "      <td>0.014724</td>\n",
       "      <td>2.69</td>\n",
       "      <td>0</td>\n",
       "    </tr>\n",
       "    <tr>\n",
       "      <th>2</th>\n",
       "      <td>1.0</td>\n",
       "      <td>-1.358354</td>\n",
       "      <td>-1.340163</td>\n",
       "      <td>1.773209</td>\n",
       "      <td>0.379780</td>\n",
       "      <td>-0.503198</td>\n",
       "      <td>1.800499</td>\n",
       "      <td>0.791461</td>\n",
       "      <td>0.247676</td>\n",
       "      <td>-1.514654</td>\n",
       "      <td>0.207643</td>\n",
       "      <td>0.624501</td>\n",
       "      <td>0.066084</td>\n",
       "      <td>0.717293</td>\n",
       "      <td>-0.165946</td>\n",
       "      <td>2.345865</td>\n",
       "      <td>-2.890083</td>\n",
       "      <td>1.109969</td>\n",
       "      <td>-0.121359</td>\n",
       "      <td>-2.261857</td>\n",
       "      <td>0.524980</td>\n",
       "      <td>0.247998</td>\n",
       "      <td>0.771679</td>\n",
       "      <td>0.909412</td>\n",
       "      <td>-0.689281</td>\n",
       "      <td>-0.327642</td>\n",
       "      <td>-0.139097</td>\n",
       "      <td>-0.055353</td>\n",
       "      <td>-0.059752</td>\n",
       "      <td>378.66</td>\n",
       "      <td>0</td>\n",
       "    </tr>\n",
       "    <tr>\n",
       "      <th>3</th>\n",
       "      <td>1.0</td>\n",
       "      <td>-0.966272</td>\n",
       "      <td>-0.185226</td>\n",
       "      <td>1.792993</td>\n",
       "      <td>-0.863291</td>\n",
       "      <td>-0.010309</td>\n",
       "      <td>1.247203</td>\n",
       "      <td>0.237609</td>\n",
       "      <td>0.377436</td>\n",
       "      <td>-1.387024</td>\n",
       "      <td>-0.054952</td>\n",
       "      <td>-0.226487</td>\n",
       "      <td>0.178228</td>\n",
       "      <td>0.507757</td>\n",
       "      <td>-0.287924</td>\n",
       "      <td>-0.631418</td>\n",
       "      <td>-1.059647</td>\n",
       "      <td>-0.684093</td>\n",
       "      <td>1.965775</td>\n",
       "      <td>-1.232622</td>\n",
       "      <td>-0.208038</td>\n",
       "      <td>-0.108300</td>\n",
       "      <td>0.005274</td>\n",
       "      <td>-0.190321</td>\n",
       "      <td>-1.175575</td>\n",
       "      <td>0.647376</td>\n",
       "      <td>-0.221929</td>\n",
       "      <td>0.062723</td>\n",
       "      <td>0.061458</td>\n",
       "      <td>123.50</td>\n",
       "      <td>0</td>\n",
       "    </tr>\n",
       "    <tr>\n",
       "      <th>4</th>\n",
       "      <td>2.0</td>\n",
       "      <td>-1.158233</td>\n",
       "      <td>0.877737</td>\n",
       "      <td>1.548718</td>\n",
       "      <td>0.403034</td>\n",
       "      <td>-0.407193</td>\n",
       "      <td>0.095921</td>\n",
       "      <td>0.592941</td>\n",
       "      <td>-0.270533</td>\n",
       "      <td>0.817739</td>\n",
       "      <td>0.753074</td>\n",
       "      <td>-0.822843</td>\n",
       "      <td>0.538196</td>\n",
       "      <td>1.345852</td>\n",
       "      <td>-1.119670</td>\n",
       "      <td>0.175121</td>\n",
       "      <td>-0.451449</td>\n",
       "      <td>-0.237033</td>\n",
       "      <td>-0.038195</td>\n",
       "      <td>0.803487</td>\n",
       "      <td>0.408542</td>\n",
       "      <td>-0.009431</td>\n",
       "      <td>0.798278</td>\n",
       "      <td>-0.137458</td>\n",
       "      <td>0.141267</td>\n",
       "      <td>-0.206010</td>\n",
       "      <td>0.502292</td>\n",
       "      <td>0.219422</td>\n",
       "      <td>0.215153</td>\n",
       "      <td>69.99</td>\n",
       "      <td>0</td>\n",
       "    </tr>\n",
       "  </tbody>\n",
       "</table>\n",
       "</div>"
      ],
      "text/plain": [
       "   Time        V1        V2        V3  ...       V27       V28  Amount  Class\n",
       "0   0.0 -1.359807 -0.072781  2.536347  ...  0.133558 -0.021053  149.62      0\n",
       "1   0.0  1.191857  0.266151  0.166480  ... -0.008983  0.014724    2.69      0\n",
       "2   1.0 -1.358354 -1.340163  1.773209  ... -0.055353 -0.059752  378.66      0\n",
       "3   1.0 -0.966272 -0.185226  1.792993  ...  0.062723  0.061458  123.50      0\n",
       "4   2.0 -1.158233  0.877737  1.548718  ...  0.219422  0.215153   69.99      0\n",
       "\n",
       "[5 rows x 31 columns]"
      ]
     },
     "execution_count": 10,
     "metadata": {
      "tags": []
     },
     "output_type": "execute_result"
    }
   ],
   "source": [
    "data.head()"
   ]
  },
  {
   "cell_type": "markdown",
   "metadata": {
    "colab_type": "text",
    "id": "LSJYVk3C0HKQ"
   },
   "source": [
    "### Duplicate Detection"
   ]
  },
  {
   "cell_type": "code",
   "execution_count": 0,
   "metadata": {
    "colab": {
     "base_uri": "https://localhost:8080/",
     "height": 255
    },
    "colab_type": "code",
    "id": "hOiuUpo8qzqt",
    "outputId": "9c420fbf-2ea2-41b6-db22-e24c153aa27d"
   },
   "outputs": [
    {
     "name": "stdout",
     "output_type": "stream",
     "text": [
      "            Time        V1        V2  ...       V28  Amount  Class\n",
      "32          26.0 -0.529912  0.873892  ...  0.023307    6.14      0\n",
      "33          26.0 -0.529912  0.873892  ...  0.023307    6.14      0\n",
      "34          26.0 -0.535388  0.865268  ...  0.025427    1.77      0\n",
      "35          26.0 -0.535388  0.865268  ...  0.025427    1.77      0\n",
      "112         74.0  1.038370  0.127486  ...  0.001192    1.18      0\n",
      "...          ...       ...       ...  ...       ...     ...    ...\n",
      "283485  171627.0 -1.457978  1.378203  ...  0.116772   11.93      0\n",
      "284190  172233.0 -2.667936  3.160505  ... -0.222200   55.66      0\n",
      "284191  172233.0 -2.667936  3.160505  ... -0.222200   55.66      0\n",
      "284192  172233.0 -2.691642  3.123168  ... -0.213020   36.74      0\n",
      "284193  172233.0 -2.691642  3.123168  ... -0.213020   36.74      0\n",
      "\n",
      "[1854 rows x 31 columns]\n"
     ]
    }
   ],
   "source": [
    "# Identify any potential duplicate rows and remove the duplicates\n",
    "print(data[data.duplicated(keep=False)])\n",
    "data = data.drop_duplicates()"
   ]
  },
  {
   "cell_type": "markdown",
   "metadata": {
    "colab_type": "text",
    "id": "edJQgOpM0MTa"
   },
   "source": [
    "### Scale features"
   ]
  },
  {
   "cell_type": "code",
   "execution_count": 0,
   "metadata": {
    "colab": {},
    "colab_type": "code",
    "id": "Dhd3luOz-55E"
   },
   "outputs": [],
   "source": [
    "# Scale Time and Amount\n",
    "scaler = StandardScaler()\n",
    "cols_to_scale = ['Time', 'Amount']\n",
    "\n",
    "for col in cols_to_scale:\n",
    "    data[col] = pd.DataFrame(scaler.fit_transform(pd.DataFrame(data[col])),columns=[col])"
   ]
  },
  {
   "cell_type": "markdown",
   "metadata": {
    "colab_type": "text",
    "id": "wY9wmD_l0Ore"
   },
   "source": [
    "### Outlier Detection and Removal"
   ]
  },
  {
   "cell_type": "code",
   "execution_count": 0,
   "metadata": {
    "colab": {
     "base_uri": "https://localhost:8080/",
     "height": 68
    },
    "colab_type": "code",
    "id": "4fFIH4BFU9Jo",
    "outputId": "722b3de3-c679-4e53-dc23-6ef935e61546"
   },
   "outputs": [
    {
     "name": "stdout",
     "output_type": "stream",
     "text": [
      "True     145734\n",
      "False    137992\n",
      "Name: is_outlier, dtype: int64\n"
     ]
    }
   ],
   "source": [
    "# Outlier Detection and Removal (IQR)\n",
    "Q1 = data.quantile(0.25)\n",
    "Q3 = data.quantile(0.75)\n",
    "IQR = Q3 - Q1\n",
    "\n",
    "is_outlier = (data < (Q1 - 1.5 * IQR)) | (data > (Q3 + 1.5 * IQR))\n",
    "is_outlier = is_outlier.drop('Class', axis=1)\n",
    "is_outlier = is_outlier.any(axis=1)\n",
    "\n",
    "data['is_outlier'] = is_outlier\n",
    "\n",
    "print(data.is_outlier.value_counts())\n",
    "\n",
    "data = data[data.is_outlier == True]\n",
    "data = data.drop('is_outlier', axis=1)"
   ]
  },
  {
   "cell_type": "code",
   "execution_count": 0,
   "metadata": {
    "colab": {
     "base_uri": "https://localhost:8080/",
     "height": 51
    },
    "colab_type": "code",
    "id": "XuBMFNt6CqGu",
    "outputId": "323bcc37-36e6-4472-928b-720f1fcdca9b"
   },
   "outputs": [
    {
     "name": "stdout",
     "output_type": "stream",
     "text": [
      "Number of fraud cases (1):\t\t 461 \n",
      "Number of legitimate cases (0):\t 145273\n"
     ]
    }
   ],
   "source": [
    "# Seperate out fraud and legitimate cases for under- and oversampling\n",
    "fraud = data[data.Class == 1] \n",
    "legit = data[data.Class == 0]\n",
    "\n",
    "print(\"Number of fraud cases (1):\\t\\t\", len(fraud), \"\\nNumber of legitimate cases (0):\\t\", len(legit))"
   ]
  },
  {
   "cell_type": "markdown",
   "metadata": {
    "colab_type": "text",
    "id": "3bXd2GrroNNe"
   },
   "source": [
    "### Undersampling"
   ]
  },
  {
   "cell_type": "code",
   "execution_count": 0,
   "metadata": {
    "colab": {
     "base_uri": "https://localhost:8080/",
     "height": 68
    },
    "colab_type": "code",
    "id": "YjckKhUT2N_J",
    "outputId": "14be049c-9c86-47b3-abfe-185339922ea9"
   },
   "outputs": [
    {
     "data": {
      "text/plain": [
       "1    461\n",
       "0    461\n",
       "Name: Class, dtype: int64"
      ]
     },
     "execution_count": 15,
     "metadata": {
      "tags": []
     },
     "output_type": "execute_result"
    }
   ],
   "source": [
    "# Undersample non-fraud cases\n",
    "legit_under = resample(legit, replace=False, n_samples=461, random_state=1)\n",
    "\n",
    "# Combine undersampled non-fraud cases with fraud cases\n",
    "data_under = pd.concat([legit_under, fraud])\n",
    "\n",
    "data_under.Class.value_counts()"
   ]
  },
  {
   "cell_type": "markdown",
   "metadata": {
    "colab_type": "text",
    "id": "iGNQFMORoRVo"
   },
   "source": [
    "### Oversampling"
   ]
  },
  {
   "cell_type": "code",
   "execution_count": 0,
   "metadata": {
    "colab": {
     "base_uri": "https://localhost:8080/",
     "height": 68
    },
    "colab_type": "code",
    "id": "uIvlAqos3BtR",
    "outputId": "a3ff9ec0-3573-4a57-e19f-f8837538c66d"
   },
   "outputs": [
    {
     "data": {
      "text/plain": [
       "1    145273\n",
       "0    145273\n",
       "Name: Class, dtype: int64"
      ]
     },
     "execution_count": 16,
     "metadata": {
      "tags": []
     },
     "output_type": "execute_result"
    }
   ],
   "source": [
    "# Oversample fraud cases\n",
    "fraud_over = resample(fraud, replace=True, n_samples=145273, random_state=1)\n",
    "\n",
    "# Combine oversampled fraud cases with non-fraud cases\n",
    "data_over = pd.concat([fraud_over, legit])\n",
    "\n",
    "data_over.Class.value_counts()"
   ]
  },
  {
   "cell_type": "markdown",
   "metadata": {
    "colab_type": "text",
    "id": "UIC6UaZyoTRJ"
   },
   "source": [
    "### SMOTE sampling"
   ]
  },
  {
   "cell_type": "code",
   "execution_count": 0,
   "metadata": {
    "colab": {
     "base_uri": "https://localhost:8080/",
     "height": 122
    },
    "colab_type": "code",
    "id": "wlc-H7plvDfr",
    "outputId": "acae88fa-2526-4317-a1ab-f5506a8ec34d"
   },
   "outputs": [
    {
     "name": "stderr",
     "output_type": "stream",
     "text": [
      "/usr/local/lib/python3.6/dist-packages/sklearn/utils/deprecation.py:87: FutureWarning: Function safe_indexing is deprecated; safe_indexing is deprecated in version 0.22 and will be removed in version 0.24.\n",
      "  warnings.warn(msg, category=FutureWarning)\n"
     ]
    },
    {
     "name": "stdout",
     "output_type": "stream",
     "text": [
      "1    145273\n",
      "0    145273\n",
      "Name: Class, dtype: int64\n"
     ]
    }
   ],
   "source": [
    "# SMOTE oversampling fraud cases\n",
    "X = data.drop(['Class', 'Time', 'Amount'], axis=1)\n",
    "y = data['Class']\n",
    "\n",
    "columns = ['V1', 'V2', 'V3', 'V4', 'V5', 'V6', 'V7','V8','V9','V10','V11','V12','V13','V14','V15','V16','V17','V18','V19','V20','V21','V22','V23','V24','V25','V26','V27','V28']\n",
    "\n",
    "sm = SMOTE(random_state = 1) \n",
    "\n",
    "X, y = sm.fit_sample(X, y.ravel()) \n",
    "\n",
    "data_smote = pd.DataFrame(X, columns=columns)\n",
    "data_smote['Class'] = y\n",
    "\n",
    "print(data_smote.Class.value_counts())"
   ]
  },
  {
   "cell_type": "markdown",
   "metadata": {
    "colab_type": "text",
    "id": "OuT8T28yoXc4"
   },
   "source": [
    "### Correlation Matricies"
   ]
  },
  {
   "cell_type": "code",
   "execution_count": 0,
   "metadata": {
    "colab": {
     "base_uri": "https://localhost:8080/",
     "height": 286
    },
    "colab_type": "code",
    "id": "V6PygSao6nOj",
    "outputId": "07935930-e9e0-455c-ac1c-d6c0bc7e81fa"
   },
   "outputs": [
    {
     "data": {
      "image/png": "[encoded data removed]",
      "text/plain": [
       "<Figure size 432x288 with 2 Axes>"
      ]
     },
     "metadata": {
      "needs_background": "light",
      "tags": []
     },
     "output_type": "display_data"
    }
   ],
   "source": [
    "# Correlation matrix with original data\n",
    "sns.heatmap(data.corr(), vmin=-1, cmap='BrBG');"
   ]
  },
  {
   "cell_type": "code",
   "execution_count": 0,
   "metadata": {
    "colab": {
     "base_uri": "https://localhost:8080/",
     "height": 286
    },
    "colab_type": "code",
    "id": "cvZpDfoj352Z",
    "outputId": "724ac565-c2d6-4de4-a64c-6cfdc90fd602"
   },
   "outputs": [
    {
     "data": {
      "image/png": "[encoded data removed]",
      "text/plain": [
       "<Figure size 432x288 with 2 Axes>"
      ]
     },
     "metadata": {
      "needs_background": "light",
      "tags": []
     },
     "output_type": "display_data"
    }
   ],
   "source": [
    "# Correlation matrix with undersampled data\n",
    "sns.heatmap(data_smote.corr(), vmin=-1, cmap='BrBG');"
   ]
  },
  {
   "cell_type": "code",
   "execution_count": 0,
   "metadata": {
    "colab": {
     "base_uri": "https://localhost:8080/",
     "height": 527
    },
    "colab_type": "code",
    "id": "9nkQsjUnkQZn",
    "outputId": "c09e1e25-9b1c-43c9-a846-16a6d45a25fc"
   },
   "outputs": [
    {
     "data": {
      "text/plain": [
       "V1      -0.365844\n",
       "V2       0.485285\n",
       "V3      -0.559062\n",
       "V4       0.704315\n",
       "V5      -0.384502\n",
       "V6      -0.498884\n",
       "V7      -0.477317\n",
       "V8       0.158637\n",
       "V9      -0.575185\n",
       "V10     -0.645050\n",
       "V11      0.698127\n",
       "V12     -0.678796\n",
       "V13     -0.085160\n",
       "V14     -0.763959\n",
       "V15      0.000658\n",
       "V16     -0.591532\n",
       "V17     -0.567643\n",
       "V18     -0.468802\n",
       "V19      0.286803\n",
       "V20      0.166806\n",
       "V21      0.136090\n",
       "V22      0.020436\n",
       "V23     -0.030308\n",
       "V24     -0.093291\n",
       "V25      0.073741\n",
       "V26      0.043288\n",
       "V27      0.140318\n",
       "V28      0.109307\n",
       "Class    1.000000\n",
       "Name: Class, dtype: float64"
      ]
     },
     "execution_count": 20,
     "metadata": {
      "tags": []
     },
     "output_type": "execute_result"
    }
   ],
   "source": [
    "data_under.corr()['Class']"
   ]
  },
  {
   "cell_type": "markdown",
   "metadata": {
    "colab_type": "text",
    "id": "2lh2zuiooa3I"
   },
   "source": [
    "### PCA Dimensionality Reduction for visualization"
   ]
  },
  {
   "cell_type": "code",
   "execution_count": 0,
   "metadata": {
    "colab": {
     "base_uri": "https://localhost:8080/",
     "height": 204
    },
    "colab_type": "code",
    "id": "-czJKTci1CEo",
    "outputId": "66825a1a-0a38-4b20-da3d-c40be1768c55"
   },
   "outputs": [
    {
     "data": {
      "text/html": [
       "<div>\n",
       "<style scoped>\n",
       "    .dataframe tbody tr th:only-of-type {\n",
       "        vertical-align: middle;\n",
       "    }\n",
       "\n",
       "    .dataframe tbody tr th {\n",
       "        vertical-align: top;\n",
       "    }\n",
       "\n",
       "    .dataframe thead th {\n",
       "        text-align: right;\n",
       "    }\n",
       "</style>\n",
       "<table border=\"1\" class=\"dataframe\">\n",
       "  <thead>\n",
       "    <tr style=\"text-align: right;\">\n",
       "      <th></th>\n",
       "      <th>PC1</th>\n",
       "      <th>PC2</th>\n",
       "      <th>Class</th>\n",
       "    </tr>\n",
       "  </thead>\n",
       "  <tbody>\n",
       "    <tr>\n",
       "      <th>0</th>\n",
       "      <td>-9.643128</td>\n",
       "      <td>1.073400</td>\n",
       "      <td>0</td>\n",
       "    </tr>\n",
       "    <tr>\n",
       "      <th>1</th>\n",
       "      <td>-9.533103</td>\n",
       "      <td>1.145516</td>\n",
       "      <td>0</td>\n",
       "    </tr>\n",
       "    <tr>\n",
       "      <th>2</th>\n",
       "      <td>-8.108838</td>\n",
       "      <td>3.531251</td>\n",
       "      <td>0</td>\n",
       "    </tr>\n",
       "    <tr>\n",
       "      <th>3</th>\n",
       "      <td>-9.500409</td>\n",
       "      <td>1.437207</td>\n",
       "      <td>0</td>\n",
       "    </tr>\n",
       "    <tr>\n",
       "      <th>4</th>\n",
       "      <td>-9.561135</td>\n",
       "      <td>1.196142</td>\n",
       "      <td>0</td>\n",
       "    </tr>\n",
       "  </tbody>\n",
       "</table>\n",
       "</div>"
      ],
      "text/plain": [
       "        PC1       PC2  Class\n",
       "0 -9.643128  1.073400      0\n",
       "1 -9.533103  1.145516      0\n",
       "2 -8.108838  3.531251      0\n",
       "3 -9.500409  1.437207      0\n",
       "4 -9.561135  1.196142      0"
      ]
     },
     "execution_count": 21,
     "metadata": {
      "tags": []
     },
     "output_type": "execute_result"
    }
   ],
   "source": [
    "X = data_under.drop(['Class', 'Amount', 'Time'], axis=1)\n",
    "y = data_under['Class']\n",
    "\n",
    "pca = PCA(n_components=2)\n",
    "reduced_pca = pca.fit_transform(X)\n",
    "\n",
    "reduced_pca = pd.DataFrame(reduced_pca, columns=[\"PC1\", \"PC2\"])\n",
    "reduced_pca['Class'] = y.values\n",
    "reduced_pca.head()"
   ]
  },
  {
   "cell_type": "code",
   "execution_count": 0,
   "metadata": {
    "colab": {
     "base_uri": "https://localhost:8080/",
     "height": 296
    },
    "colab_type": "code",
    "id": "nuXiD8fC2V_A",
    "outputId": "ad8529c1-7c17-429a-a78a-0ff8d67f89e4"
   },
   "outputs": [
    {
     "data": {
      "text/plain": [
       "<matplotlib.axes._subplots.AxesSubplot at 0x7f6705389ef0>"
      ]
     },
     "execution_count": 23,
     "metadata": {
      "tags": []
     },
     "output_type": "execute_result"
    },
    {
     "data": {
      "image/png": "[encoded data removed]",
      "text/plain": [
       "<Figure size 432x288 with 1 Axes>"
      ]
     },
     "metadata": {
      "needs_background": "light",
      "tags": []
     },
     "output_type": "display_data"
    }
   ],
   "source": [
    "sns.scatterplot(x='PC1', y='PC2', data=reduced_pca, hue='Class', alpha=0.5)"
   ]
  },
  {
   "cell_type": "markdown",
   "metadata": {
    "colab_type": "text",
    "id": "LQaL2Kn89qNo"
   },
   "source": [
    "# Classifier Selection"
   ]
  },
  {
   "cell_type": "markdown",
   "metadata": {
    "colab_type": "text",
    "id": "YIgdpQ38ohM0"
   },
   "source": [
    "### Prepare Data"
   ]
  },
  {
   "cell_type": "code",
   "execution_count": 0,
   "metadata": {
    "colab": {},
    "colab_type": "code",
    "id": "GxaOCdve0Otg"
   },
   "outputs": [],
   "source": [
    "# Drop columns identified in EDA\n",
    "selected_columns = ['V14', 'V4','V12','V11','V10','V16','V3','V9','V17','V2','V7','V18'\n",
    ",'V6','V1','V5','V19','V20','Class']\n",
    "data_under = data_under[selected_columns]\n",
    "data_over = data_over[selected_columns]\n",
    "data_smote = data_smote[selected_columns]\n",
    "data_original = data[selected_columns]\n",
    "\n",
    "# Original Data\n",
    "X_original = data_original.drop(['Class'], axis=1)\n",
    "y_original = data_original['Class']\n",
    "X_original_train, X_original_test, y_original_train, y_original_test = train_test_split(X_original, y_original, test_size=0.20, random_state=1)\n",
    "\n",
    "# Undersampling\n",
    "X_under = data_under.drop(['Class'], axis=1)\n",
    "y_under = data_under['Class']\n",
    "X_under_train, X_under_test, y_under_train, y_under_test = train_test_split(X_under, y_under, test_size=0.20, random_state=1)\n",
    "\n",
    "# Oversampling\n",
    "X_over = data_over.drop(['Class'], axis=1)\n",
    "y_over = data_over['Class']\n",
    "X_over_train, X_over_test, y_over_train, y_over_test = train_test_split(X_over, y_over,test_size=0.20, random_state=1)\n",
    "\n",
    "# Smote\n",
    "X_smote = data_smote.drop(['Class'], axis=1)\n",
    "y_smote = data_smote['Class']\n",
    "X_smote_train, X_smote_test, y_smote_train, y_smote_test = train_test_split(X_smote, y_smote, test_size=0.20, random_state=1 )\n"
   ]
  },
  {
   "cell_type": "markdown",
   "metadata": {
    "colab_type": "text",
    "id": "JRUNIVwQoi7A"
   },
   "source": [
    "### Helper Functions & Variables"
   ]
  },
  {
   "cell_type": "code",
   "execution_count": 0,
   "metadata": {
    "colab": {},
    "colab_type": "code",
    "id": "cGd7yRCknc_M"
   },
   "outputs": [],
   "source": [
    "# Data used for training\n",
    "X_train = X_under_train\n",
    "y_train = y_under_train\n",
    "\n",
    "# Data used for testing\n",
    "X_test = X_under_test\n",
    "y_test = y_under_test\n",
    "\n",
    "def TuneModel(estimator, param_grid):\n",
    "  model = GridSearchCV(estimator=estimator, param_grid=param_grid, cv=4)\n",
    "  model.fit(X_train, y_train)\n",
    "  print(\"Hyper Parameter Tuning Completed.\")\n",
    "  print(\"Best estimator:\")\n",
    "  print(model.best_estimator_)\n",
    "  return model.best_estimator_\n",
    "\n",
    "def Predict(model):\n",
    "  prediction = model.predict(X_test)\n",
    "  report = classification_report(y_test, prediction)\n",
    "  cf_matrix = confusion_matrix(y_test, prediction)\n",
    "  ap_score = average_precision_score(y_test, prediction)\n",
    "  print(\"Model Performance Metrics\\n\")\n",
    "  print(report)\n",
    "  print('Average precision-recall score: {0:0.3f}'.format(ap_score))\n",
    "  print(\"\\nConfusion Matrix:\")\n",
    "  sns.heatmap(cf_matrix /np.sum(cf_matrix ), annot=True,\n",
    "  fmt='.2%', cmap='Blues')\n"
   ]
  },
  {
   "cell_type": "markdown",
   "metadata": {
    "colab_type": "text",
    "id": "amaGIyOEzM6Q"
   },
   "source": [
    "## Random Forrest Classifier"
   ]
  },
  {
   "cell_type": "code",
   "execution_count": 0,
   "metadata": {
    "colab": {
     "base_uri": "https://localhost:8080/",
     "height": 187
    },
    "colab_type": "code",
    "id": "RgOB776gzMgN",
    "outputId": "f22fa5ec-ab78-46bb-fef6-be76002a7bec"
   },
   "outputs": [
    {
     "name": "stdout",
     "output_type": "stream",
     "text": [
      "Hyper Parameter Tuning Completed.\n",
      "Best estimator:\n",
      "RandomForestClassifier(bootstrap=True, ccp_alpha=0.0, class_weight=None,\n",
      "                       criterion='gini', max_depth=9, max_features='auto',\n",
      "                       max_leaf_nodes=None, max_samples=None,\n",
      "                       min_impurity_decrease=0.0, min_impurity_split=None,\n",
      "                       min_samples_leaf=1, min_samples_split=2,\n",
      "                       min_weight_fraction_leaf=0.0, n_estimators=50,\n",
      "                       n_jobs=None, oob_score=False, random_state=1, verbose=0,\n",
      "                       warm_start=False)\n"
     ]
    }
   ],
   "source": [
    "rfc_param_grid = {\n",
    "  'n_estimators': [50, 100, 200],\n",
    "  'max_features': ['auto', 'sqrt', 'log2'],\n",
    "  'max_depth' : [8,9,10],\n",
    "  'criterion' :['gini', 'entropy']\n",
    "}\n",
    "rfc_clf = TuneModel(RandomForestClassifier(random_state=1),\n",
    "  rfc_param_grid)\n"
   ]
  },
  {
   "cell_type": "code",
   "execution_count": 0,
   "metadata": {
    "colab": {
     "base_uri": "https://localhost:8080/",
     "height": 506
    },
    "colab_type": "code",
    "id": "w5h-IZNtomU8",
    "outputId": "4e348cea-8d64-491e-f902-cdfb3cbf3648"
   },
   "outputs": [
    {
     "name": "stdout",
     "output_type": "stream",
     "text": [
      "Model Performance Metrics\n",
      "\n",
      "              precision    recall  f1-score   support\n",
      "\n",
      "           0       0.90      0.98      0.94        83\n",
      "           1       0.98      0.91      0.94       102\n",
      "\n",
      "    accuracy                           0.94       185\n",
      "   macro avg       0.94      0.94      0.94       185\n",
      "weighted avg       0.94      0.94      0.94       185\n",
      "\n",
      "Average precision-recall score: 0.941\n",
      "\n",
      "Confusion Matrix:\n"
     ]
    },
    {
     "data": {
      "image/png": "[encoded data removed]",
      "text/plain": [
       "<Figure size 432x288 with 2 Axes>"
      ]
     },
     "metadata": {
      "needs_background": "light",
      "tags": []
     },
     "output_type": "display_data"
    }
   ],
   "source": [
    "# Prediction based on model\n",
    "Predict(rfc_clf)"
   ]
  },
  {
   "cell_type": "markdown",
   "metadata": {
    "colab_type": "text",
    "id": "Oan3nxzEzSyi"
   },
   "source": [
    "## Logistic Regression"
   ]
  },
  {
   "cell_type": "code",
   "execution_count": 0,
   "metadata": {
    "colab": {
     "base_uri": "https://localhost:8080/",
     "height": 136
    },
    "colab_type": "code",
    "id": "To6KiZ6fzWzk",
    "outputId": "dea2362a-4c66-4773-fc10-ade19bfda8e0"
   },
   "outputs": [
    {
     "name": "stdout",
     "output_type": "stream",
     "text": [
      "Hyper Parameter Tuning Completed.\n",
      "Best estimator:\n",
      "LogisticRegression(C=0.23357214690901212, class_weight=None, dual=False,\n",
      "                   fit_intercept=True, intercept_scaling=1, l1_ratio=None,\n",
      "                   max_iter=50, multi_class='auto', n_jobs=None, penalty='l1',\n",
      "                   random_state=1, solver='liblinear', tol=0.0001, verbose=0,\n",
      "                   warm_start=False)\n"
     ]
    }
   ],
   "source": [
    "lr_param_grid = {\n",
    "  'solver': ['liblinear'],\n",
    "  'penalty' : ['l1', 'l2'],\n",
    "  'C' : np.logspace(-4, 4, 20),\n",
    "  'max_iter': [50,100,200]\n",
    "}\n",
    "lr_clf = TuneModel(LogisticRegression(random_state=1),\n",
    "  param_grid = lr_param_grid)"
   ]
  },
  {
   "cell_type": "code",
   "execution_count": 0,
   "metadata": {
    "colab": {
     "base_uri": "https://localhost:8080/",
     "height": 504
    },
    "colab_type": "code",
    "id": "Ru8fWwMn7JO7",
    "outputId": "af005313-9a41-445b-cf82-3a1ffde65e42"
   },
   "outputs": [
    {
     "name": "stdout",
     "output_type": "stream",
     "text": [
      "Model Performance Metrics\n",
      "\n",
      "              precision    recall  f1-score   support\n",
      "\n",
      "           0       0.91      1.00      0.95        83\n",
      "           1       1.00      0.92      0.96       102\n",
      "\n",
      "    accuracy                           0.96       185\n",
      "   macro avg       0.96      0.96      0.96       185\n",
      "weighted avg       0.96      0.96      0.96       185\n",
      "\n",
      "Average precision-recall score: 0.965\n",
      "\n",
      "Confusion Matrix:\n"
     ]
    },
    {
     "data": {
      "image/png": "[encoded data removed]",
      "text/plain": [
       "<Figure size 432x288 with 2 Axes>"
      ]
     },
     "metadata": {
      "needs_background": "light",
      "tags": []
     },
     "output_type": "display_data"
    }
   ],
   "source": [
    "# Prediction based on model\n",
    "Predict(lr_clf)"
   ]
  },
  {
   "cell_type": "markdown",
   "metadata": {
    "colab_type": "text",
    "id": "kqgRixpUzW8Y"
   },
   "source": [
    "## SVC Classifier"
   ]
  },
  {
   "cell_type": "code",
   "execution_count": 0,
   "metadata": {
    "colab": {
     "base_uri": "https://localhost:8080/",
     "height": 119
    },
    "colab_type": "code",
    "id": "BKEw7DF_zc6Q",
    "outputId": "616ea641-69ed-4389-a17c-7493976a7096"
   },
   "outputs": [
    {
     "name": "stdout",
     "output_type": "stream",
     "text": [
      "Hyper Parameter Tuning Completed.\n",
      "Best estimator:\n",
      "SVC(C=1000, break_ties=False, cache_size=200, class_weight=None, coef0=0.0,\n",
      "    decision_function_shape='ovr', degree=3, gamma=0.001, kernel='rbf',\n",
      "    max_iter=-1, probability=False, random_state=1, shrinking=True, tol=0.001,\n",
      "    verbose=False)\n"
     ]
    }
   ],
   "source": [
    "svc_param_grid = [\n",
    "  {\n",
    "  'kernel': ['rbf'],\n",
    "  'gamma': [1e-3, 1e-4],\n",
    "  'C': [1, 10, 100, 1000]\n",
    "  },\n",
    "  {\n",
    "  'kernel': ['linear'],\n",
    "  'C': [1, 10, 100, 1000]\n",
    "  }\n",
    "]\n",
    "svc_clf = TuneModel(SVC(random_state=1),\n",
    "  param_grid = svc_param_grid)\n"
   ]
  },
  {
   "cell_type": "code",
   "execution_count": 0,
   "metadata": {
    "colab": {
     "base_uri": "https://localhost:8080/",
     "height": 503
    },
    "colab_type": "code",
    "id": "3Ze7gNY6_blg",
    "outputId": "885a6563-8ea8-4286-81bd-490fec25c925"
   },
   "outputs": [
    {
     "name": "stdout",
     "output_type": "stream",
     "text": [
      "Model Performance Metrics\n",
      "\n",
      "              precision    recall  f1-score   support\n",
      "\n",
      "           0       0.92      0.96      0.94        83\n",
      "           1       0.97      0.93      0.95       102\n",
      "\n",
      "    accuracy                           0.95       185\n",
      "   macro avg       0.94      0.95      0.95       185\n",
      "weighted avg       0.95      0.95      0.95       185\n",
      "\n",
      "Average precision-recall score: 0.941\n",
      "\n",
      "Confusion Matrix:\n"
     ]
    },
    {
     "data": {
      "image/png": "[encoded data removed]",
      "text/plain": [
       "<Figure size 432x288 with 2 Axes>"
      ]
     },
     "metadata": {
      "needs_background": "light",
      "tags": []
     },
     "output_type": "display_data"
    }
   ],
   "source": [
    "# Prediction based on model\n",
    "Predict(svc_clf)"
   ]
  },
  {
   "cell_type": "markdown",
   "metadata": {
    "colab_type": "text",
    "id": "h3nw6LZezdEh"
   },
   "source": [
    "## MLP Classifier"
   ]
  },
  {
   "cell_type": "code",
   "execution_count": 0,
   "metadata": {
    "colab": {
     "base_uri": "https://localhost:8080/",
     "height": 595
    },
    "colab_type": "code",
    "id": "_PRx7je6zgYu",
    "outputId": "7ce0b6a2-f107-447a-99a8-644b2cfff4d9"
   },
   "outputs": [
    {
     "name": "stderr",
     "output_type": "stream",
     "text": [
      "/usr/local/lib/python3.6/dist-packages/sklearn/neural_network/_multilayer_perceptron.py:470: ConvergenceWarning: lbfgs failed to converge (status=1):\n",
      "STOP: TOTAL NO. of ITERATIONS REACHED LIMIT.\n",
      "\n",
      "Increase the number of iterations (max_iter) or scale the data as shown in:\n",
      "    https://scikit-learn.org/stable/modules/preprocessing.html\n",
      "  self.n_iter_ = _check_optimize_result(\"lbfgs\", opt_res, self.max_iter)\n",
      "/usr/local/lib/python3.6/dist-packages/sklearn/neural_network/_multilayer_perceptron.py:470: ConvergenceWarning: lbfgs failed to converge (status=1):\n",
      "STOP: TOTAL NO. of ITERATIONS REACHED LIMIT.\n",
      "\n",
      "Increase the number of iterations (max_iter) or scale the data as shown in:\n",
      "    https://scikit-learn.org/stable/modules/preprocessing.html\n",
      "  self.n_iter_ = _check_optimize_result(\"lbfgs\", opt_res, self.max_iter)\n",
      "/usr/local/lib/python3.6/dist-packages/sklearn/neural_network/_multilayer_perceptron.py:470: ConvergenceWarning: lbfgs failed to converge (status=1):\n",
      "STOP: TOTAL NO. of ITERATIONS REACHED LIMIT.\n",
      "\n",
      "Increase the number of iterations (max_iter) or scale the data as shown in:\n",
      "    https://scikit-learn.org/stable/modules/preprocessing.html\n",
      "  self.n_iter_ = _check_optimize_result(\"lbfgs\", opt_res, self.max_iter)\n"
     ]
    },
    {
     "name": "stdout",
     "output_type": "stream",
     "text": [
      "Hyper Parameter Tuning Completed.\n",
      "Best estimator:\n",
      "MLPClassifier(activation='relu', alpha=0.1, batch_size='auto', beta_1=0.9,\n",
      "              beta_2=0.999, early_stopping=False, epsilon=1e-08,\n",
      "              hidden_layer_sizes=14, learning_rate='constant',\n",
      "              learning_rate_init=0.001, max_fun=15000, max_iter=1000,\n",
      "              momentum=0.9, n_iter_no_change=10, nesterovs_momentum=True,\n",
      "              power_t=0.5, random_state=1, shuffle=True, solver='lbfgs',\n",
      "              tol=0.0001, validation_fraction=0.1, verbose=False,\n",
      "              warm_start=False)\n"
     ]
    },
    {
     "name": "stderr",
     "output_type": "stream",
     "text": [
      "/usr/local/lib/python3.6/dist-packages/sklearn/neural_network/_multilayer_perceptron.py:470: ConvergenceWarning: lbfgs failed to converge (status=1):\n",
      "STOP: TOTAL NO. of ITERATIONS REACHED LIMIT.\n",
      "\n",
      "Increase the number of iterations (max_iter) or scale the data as shown in:\n",
      "    https://scikit-learn.org/stable/modules/preprocessing.html\n",
      "  self.n_iter_ = _check_optimize_result(\"lbfgs\", opt_res, self.max_iter)\n"
     ]
    }
   ],
   "source": [
    "mlp_param_grid = {\n",
    "  'solver': ['lbfgs'],\n",
    "  'max_iter': [1000,1200,1400,1800,2000],\n",
    "  'alpha': 10.0 ** -np.arange(1, 10),\n",
    "  'hidden_layer_sizes':np.arange(10, 15)\n",
    " }\n",
    "mlp_clf = TuneModel(MLPClassifier(random_state=1),\n",
    "  param_grid = mlp_param_grid)"
   ]
  },
  {
   "cell_type": "code",
   "execution_count": 0,
   "metadata": {
    "colab": {
     "base_uri": "https://localhost:8080/",
     "height": 503
    },
    "colab_type": "code",
    "id": "WHmj5gIDLy7K",
    "outputId": "6ce9deac-4d00-4b48-8fd3-bafc87834a6b"
   },
   "outputs": [
    {
     "name": "stdout",
     "output_type": "stream",
     "text": [
      "Model Performance Metrics\n",
      "\n",
      "              precision    recall  f1-score   support\n",
      "\n",
      "           0       0.92      0.95      0.93        83\n",
      "           1       0.96      0.93      0.95       102\n",
      "\n",
      "    accuracy                           0.94       185\n",
      "   macro avg       0.94      0.94      0.94       185\n",
      "weighted avg       0.94      0.94      0.94       185\n",
      "\n",
      "Average precision-recall score: 0.932\n",
      "\n",
      "Confusion Matrix:\n"
     ]
    },
    {
     "data": {
      "image/png": "[encoded data removed]",
      "text/plain": [
       "<Figure size 432x288 with 2 Axes>"
      ]
     },
     "metadata": {
      "needs_background": "light",
      "tags": []
     },
     "output_type": "display_data"
    }
   ],
   "source": [
    "# Prediction based on model\n",
    "Predict(mlp_clf)"
   ]
  }
 ],
 "metadata": {
  "colab": {
   "collapsed_sections": [],
   "name": "Machine Learning EXAM.ipynb",
   "provenance": [],
   "toc_visible": true
  },
  "kernelspec": {
   "display_name": "Python 3",
   "language": "python",
   "name": "python3"
  },
  "language_info": {
   "codemirror_mode": {
    "name": "ipython",
    "version": 3
   },
   "file_extension": ".py",
   "mimetype": "text/x-python",
   "name": "python",
   "nbconvert_exporter": "python",
   "pygments_lexer": "ipython3",
   "version": "3.7.1"
  }
 },
 "nbformat": 4,
 "nbformat_minor": 1
}
